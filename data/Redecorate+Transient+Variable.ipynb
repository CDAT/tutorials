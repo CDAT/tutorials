{
 "cells": [
  {
   "cell_type": "markdown",
   "metadata": {},
   "source": [
    "This Jupyter Notebook shows how to *redecorate* a transient variable that became a numpy array"
   ]
  },
  {
   "cell_type": "code",
   "execution_count": 7,
   "metadata": {
    "collapsed": false
   },
   "outputs": [],
   "source": [
    "# import modules\n",
    "import MV2\n",
    "import cdms2\n",
    "import numpy\n",
    "import cdat_info  # for sample data"
   ]
  },
  {
   "cell_type": "code",
   "execution_count": 10,
   "metadata": {
    "collapsed": false
   },
   "outputs": [
    {
     "name": "stdout",
     "output_type": "stream",
     "text": [
      "<class 'cdms2.tvariable.TransientVariable'>\n"
     ]
    }
   ],
   "source": [
    "# open some data\n",
    "f=cdms2.open(cdat_info.get_sampledata_path()+\"/clt.nc\")\n",
    "s=f(\"clt\")\n",
    "print type(s)"
   ]
  },
  {
   "cell_type": "code",
   "execution_count": 9,
   "metadata": {
    "collapsed": false
   },
   "outputs": [
    {
     "name": "stdout",
     "output_type": "stream",
     "text": [
      "<type 'numpy.ndarray'>\n"
     ]
    }
   ],
   "source": [
    "# Now run an operation on this MV2 that turns it to munpy array\n",
    "fft_s = numpy.fft.fft(s)\n",
    "print type(fft_s)  # numpy array"
   ]
  },
  {
   "cell_type": "code",
   "execution_count": 19,
   "metadata": {
    "collapsed": false
   },
   "outputs": [
    {
     "name": "stdout",
     "output_type": "stream",
     "text": [
      "['time', 'latitude', 'longitude']\n"
     ]
    }
   ],
   "source": [
    "# now put back dimensions on it\n",
    "fft_s = MV2.array(fft_s)\n",
    "fft_s.setAxisList(s.getAxisList())\n",
    "\n",
    "# Dimensions are back\n",
    "print fft_s.getAxisIds()"
   ]
  },
  {
   "cell_type": "code",
   "execution_count": 17,
   "metadata": {
    "collapsed": false
   },
   "outputs": [
    {
     "name": "stdout",
     "output_type": "stream",
     "text": [
      "*** Description of Slab variable_14 ***\n",
      "id: variable_14\n",
      "shape: (120, 46, 72)\n",
      "filename: \n",
      "missing_value: (1+0j)\n",
      "comments: YONU_AMIP1\n",
      "grid_name: YONU4X5\n",
      "grid_type: gaussian\n",
      "time_statistic: average\n",
      "long_name: Total cloudiness\n",
      "units: %\n",
      "tileIndex: None\n",
      "Grid has Python id 0x7f58311cba50.\n",
      "Gridtype: generic\n",
      "Grid shape: (46, 72)\n",
      "Order: yx\n",
      "** Dimension 1 **\n",
      "   id: time\n",
      "   Designated a time axis.\n",
      "   units:  months since 1979-1-1 0\n",
      "   Length: 120\n",
      "   First:  0.0\n",
      "   Last:   119.0\n",
      "   Other axis attributes:\n",
      "      calendar: gregorian\n",
      "      axis: T\n",
      "      realtopology: linear\n",
      "   Python id:  0x7f58311cbf10\n",
      "** Dimension 2 **\n",
      "   id: latitude\n",
      "   Designated a latitude axis.\n",
      "   units:  degrees_north\n",
      "   Length: 46\n",
      "   First:  -90.0\n",
      "   Last:   90.0\n",
      "   Other axis attributes:\n",
      "      long_name: Latitude\n",
      "      axis: Y\n",
      "      realtopology: linear\n",
      "   Python id:  0x7f58311cb610\n",
      "** Dimension 3 **\n",
      "   id: longitude\n",
      "   Designated a longitude axis.\n",
      "   units:  degrees_east\n",
      "   Length: 72\n",
      "   First:  -180.0\n",
      "   Last:   175.0\n",
      "   Other axis attributes:\n",
      "      modulo: 360.0\n",
      "      realtopology: circular\n",
      "      long_name: Longitude\n",
      "      topology: circular\n",
      "      axis: X\n",
      "   Python id:  0x7f58311cbf90\n",
      "*** End of description for variable_14 ***\n"
     ]
    }
   ],
   "source": [
    "# now puts the attributes on it\n",
    "for a in s.attributes:\n",
    "    setattr(fft_s,a,getattr(s,a))\n",
    "fft_s.info()"
   ]
  }
 ],
 "metadata": {
  "anaconda-cloud": {},
  "kernelspec": {
   "display_name": "Python [conda env:AAshish]",
   "language": "python",
   "name": "conda-env-AAshish-py"
  },
  "language_info": {
   "codemirror_mode": {
    "name": "ipython",
    "version": 2
   },
   "file_extension": ".py",
   "mimetype": "text/x-python",
   "name": "python",
   "nbconvert_exporter": "python",
   "pygments_lexer": "ipython2",
   "version": "2.7.12"
  }
 },
 "nbformat": 4,
 "nbformat_minor": 1
}
